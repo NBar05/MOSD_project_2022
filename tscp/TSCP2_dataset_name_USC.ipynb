{
  "cells": [
    {
      "cell_type": "code",
      "execution_count": 1,
      "id": "3MG-oO6imXK8",
      "metadata": {
        "colab": {
          "base_uri": "https://localhost:8080/"
        },
        "id": "3MG-oO6imXK8",
        "outputId": "286ee955-760f-4d90-ec0d-d13f905afb80"
      },
      "outputs": [
        {
          "name": "stdout",
          "output_type": "stream",
          "text": [
            "Cloning into 'MOSD_project_2022'...\n",
            "remote: Enumerating objects: 108, done.\u001b[K\n",
            "remote: Counting objects: 100% (4/4), done.\u001b[K\n",
            "remote: Compressing objects: 100% (4/4), done.\u001b[K\n",
            "remote: Total 108 (delta 0), reused 0 (delta 0), pack-reused 104\u001b[K\n",
            "Receiving objects: 100% (108/108), 23.75 MiB | 29.77 MiB/s, done.\n",
            "Resolving deltas: 100% (49/49), done.\n",
            "/content/MOSD_project_2022/tscp\n"
          ]
        }
      ],
      "source": [
        "#clone git repo\n",
        "!git clone https://github.com/NBar05/MOSD_project_2022\n",
        "\n",
        "# go to TS-CP model\n",
        "%cd MOSD_project_2022/tscp/"
      ]
    },
    {
      "cell_type": "code",
      "execution_count": 2,
      "id": "cY-b5qWK0Tty",
      "metadata": {
        "colab": {
          "base_uri": "https://localhost:8080/"
        },
        "id": "cY-b5qWK0Tty",
        "outputId": "5c4d1290-5656-4b32-9aca-359a5e9e2286"
      },
      "outputs": [
        {
          "name": "stdout",
          "output_type": "stream",
          "text": [
            "Looking in indexes: https://pypi.org/simple, https://us-python.pkg.dev/colab-wheels/public/simple/\n",
            "Collecting ruptures\n",
            "  Downloading ruptures-1.1.7-cp38-cp38-manylinux_2_17_x86_64.manylinux2014_x86_64.whl (1.1 MB)\n",
            "\u001b[K     |████████████████████████████████| 1.1 MB 4.4 MB/s \n",
            "\u001b[?25hRequirement already satisfied: numpy in /usr/local/lib/python3.8/dist-packages (from ruptures) (1.21.6)\n",
            "Requirement already satisfied: scipy in /usr/local/lib/python3.8/dist-packages (from ruptures) (1.7.3)\n",
            "Installing collected packages: ruptures\n",
            "Successfully installed ruptures-1.1.7\n",
            "\u001b[K     |████████████████████████████████| 800 kB 5.8 MB/s \n",
            "\u001b[K     |████████████████████████████████| 512 kB 48.2 MB/s \n",
            "\u001b[K     |████████████████████████████████| 125 kB 8.5 MB/s \n",
            "\u001b[?25hLooking in indexes: https://pypi.org/simple, https://us-python.pkg.dev/colab-wheels/public/simple/\n",
            "Requirement already satisfied: gdown in /usr/local/lib/python3.8/dist-packages (4.4.0)\n",
            "Requirement already satisfied: filelock in /usr/local/lib/python3.8/dist-packages (from gdown) (3.8.2)\n",
            "Requirement already satisfied: requests[socks] in /usr/local/lib/python3.8/dist-packages (from gdown) (2.23.0)\n",
            "Requirement already satisfied: beautifulsoup4 in /usr/local/lib/python3.8/dist-packages (from gdown) (4.6.3)\n",
            "Requirement already satisfied: tqdm in /usr/local/lib/python3.8/dist-packages (from gdown) (4.64.1)\n",
            "Requirement already satisfied: six in /usr/local/lib/python3.8/dist-packages (from gdown) (1.15.0)\n",
            "Requirement already satisfied: chardet<4,>=3.0.2 in /usr/local/lib/python3.8/dist-packages (from requests[socks]->gdown) (3.0.4)\n",
            "Requirement already satisfied: certifi>=2017.4.17 in /usr/local/lib/python3.8/dist-packages (from requests[socks]->gdown) (2022.12.7)\n",
            "Requirement already satisfied: idna<3,>=2.5 in /usr/local/lib/python3.8/dist-packages (from requests[socks]->gdown) (2.10)\n",
            "Requirement already satisfied: urllib3!=1.25.0,!=1.25.1,<1.26,>=1.21.1 in /usr/local/lib/python3.8/dist-packages (from requests[socks]->gdown) (1.24.3)\n",
            "Requirement already satisfied: PySocks!=1.5.7,>=1.5.6 in /usr/local/lib/python3.8/dist-packages (from requests[socks]->gdown) (1.7.1)\n"
          ]
        }
      ],
      "source": [
        "# SOME INSTALLATIONS\n",
        "!pip install ruptures\n",
        "!pip install -q pytorch-lightning\n",
        "!pip install gdown"
      ]
    },
    {
      "cell_type": "code",
      "execution_count": 3,
      "id": "sgWOcExKmU0y",
      "metadata": {
        "colab": {
          "base_uri": "https://localhost:8080/"
        },
        "id": "sgWOcExKmU0y",
        "outputId": "18bb6664-39d0-4768-8758-2758f3393990"
      },
      "outputs": [
        {
          "name": "stdout",
          "output_type": "stream",
          "text": [
            "cuda:0\n"
          ]
        }
      ],
      "source": [
        "# LIBRARIES\n",
        "\n",
        "import torch\n",
        "import torchtext\n",
        "from torchvision import transforms\n",
        "import numpy as np\n",
        "import random\n",
        "from tqdm import tqdm\n",
        "import tensorflow as tf\n",
        "from torch.utils import data\n",
        "\n",
        "import pytorch_lightning as pl\n",
        "import matplotlib.pyplot as plt\n",
        "\n",
        "from math import floor\n",
        "from pandas import read_csv\n",
        "from sklearn.metrics import roc_auc_score\n",
        "import pandas as pd\n",
        "import csv\n",
        "import os\n",
        "import scipy.io as sio\n",
        "\n",
        "from IPython.display import clear_output\n",
        "import numpy as np\n",
        "from ruptures.metrics import precision_recall\n",
        "\n",
        "def fuzzy_f1_score(y_true: np.array, y_pred: np.array, margin: int=10):    \n",
        "    bkps1 = np.arange(0, len(y_true))[y_true == 1]\n",
        "    bkps2 = np.arange(0, len(y_pred))[y_pred == 1]\n",
        "\n",
        "    bkps1 = np.array(list(bkps1) + [len(y_true)-1]) if bkps1[-1] != len(y_true)-1 else bkps1\n",
        "    bkps2 = np.array(list(bkps2) + [len(y_true)-1]) if bkps2[-1] != len(y_true)-1 else bkps2\n",
        "    \n",
        "    p, r = precision_recall(bkps1, bkps2, margin=margin)\n",
        "\n",
        "    return 2 * (p * r) / (p + r)\n",
        "\n",
        "\n",
        "device = torch.device('cuda:0' if torch.cuda.is_available() else 'cpu')\n",
        "print(device)\n",
        "\n",
        "# for reproducibility issues\n",
        "def reproducibility(seed):\n",
        "    random.seed(seed)\n",
        "    torch.manual_seed(seed)\n",
        "    np.random.seed(seed)\n",
        "    \n",
        "    \n",
        "reproducibility(42)\n",
        "\n",
        "# import all necessay functions\n",
        "from tscp_new import *\n",
        "\n",
        "import warnings\n",
        "warnings.filterwarnings(\"ignore\")"
      ]
    },
    {
      "cell_type": "code",
      "execution_count": null,
      "id": "imU1AWIAmU00",
      "metadata": {
        "id": "imU1AWIAmU00"
      },
      "outputs": [],
      "source": []
    },
    {
      "cell_type": "markdown",
      "id": "1wZCOrq2mU03",
      "metadata": {
        "id": "1wZCOrq2mU03"
      },
      "source": [
        "# USC part"
      ]
    },
    {
      "cell_type": "markdown",
      "id": "7Wden1pPmU04",
      "metadata": {
        "id": "7Wden1pPmU04"
      },
      "source": [
        "## Illustration USC dataset"
      ]
    },
    {
      "cell_type": "code",
      "execution_count": 4,
      "id": "lKLMASQ8mU05",
      "metadata": {
        "colab": {
          "base_uri": "https://localhost:8080/"
        },
        "id": "lKLMASQ8mU05",
        "outputId": "91ce593f-62c3-425e-a357-05d85dd0b9ed"
      },
      "outputs": [
        {
          "data": {
            "text/plain": [
              "{'__header__': b'MATLAB 5.0 MAT-file, Platform: PCWIN64, Created on: Mon Oct 19 14:01:57 2020',\n",
              " '__version__': '1.0',\n",
              " '__globals__': [],\n",
              " 'L': array([[0],\n",
              "        [0],\n",
              "        [0],\n",
              "        ...,\n",
              "        [0],\n",
              "        [0],\n",
              "        [0]], dtype=uint8),\n",
              " 'Y': array([[0.179207  ],\n",
              "        [0.16998498],\n",
              "        [0.16555306],\n",
              "        ...,\n",
              "        [0.33397986],\n",
              "        [0.33366157],\n",
              "        [0.3323591 ]])}"
            ]
          },
          "execution_count": 4,
          "metadata": {},
          "output_type": "execute_result"
        }
      ],
      "source": [
        "path= \"data/\"\n",
        "dataset = sio.loadmat(path+\"usc.mat\")\n",
        "dataset"
      ]
    },
    {
      "cell_type": "code",
      "execution_count": 7,
      "id": "jV4ZWdEgmU05",
      "metadata": {
        "colab": {
          "base_uri": "https://localhost:8080/",
          "height": 611
        },
        "id": "jV4ZWdEgmU05",
        "outputId": "9b1b4465-5b9e-45f0-c4a9-385e3ae2e5f1"
      },
      "outputs": [
        {
          "data": {
            "image/png": "[encoded data removed]",
            "text/plain": [
              "<Figure size 1080x720 with 1 Axes>"
            ]
          },
          "metadata": {
            "needs_background": "light"
          },
          "output_type": "display_data"
        }
      ],
      "source": [
        "plt.figure(figsize = (15, 10))\n",
        "plt.title(\"USC dataset\", fontsize = 18)\n",
        "plt.plot(dataset[\"Y\"][:,0], color = \"blue\");\n",
        "plt.plot(dataset[\"L\"], color = \"black\", label = \"change point\");\n",
        "plt.legend(framealpha=1, fontsize = 15);\n",
        "\n",
        "\n"
      ]
    },
    {
      "cell_type": "markdown",
      "id": "Bh7K-wKomU06",
      "metadata": {
        "id": "Bh7K-wKomU06"
      },
      "source": [
        "# USC preprocess"
      ]
    },
    {
      "cell_type": "code",
      "execution_count": 8,
      "id": "WHGbJFF9mU06",
      "metadata": {
        "id": "WHGbJFF9mU06"
      },
      "outputs": [],
      "source": [
        "##### USC\n",
        "\n",
        "def extract_windows(path, window_size, step):\n",
        "\n",
        "    print(window_size)\n",
        "    windows = []\n",
        "    lbl = []\n",
        "    dataset = sio.loadmat(path+\"usc.mat\")\n",
        "\n",
        "    ts = np.array(dataset['Y'])\n",
        "    ts = ts[:,0]\n",
        "    cp = np.array(dataset['L'])\n",
        "    cp = cp[:,0]\n",
        "\n",
        "    num_cp = 0\n",
        "    #ts = np.sqrt(np.power(x[:, 0], 2) + np.power(x[:, 1], 2) + np.power(x[:, 2], 2))\n",
        "    for i in range(0, ts.shape[0] - window_size, 5):\n",
        "        windows.append(np.array(ts[i:i + window_size]))\n",
        "        is_cp = np.where(cp[i:i + window_size] == 1)[0]\n",
        "        if is_cp.size == 0:\n",
        "            is_cp = [0]\n",
        "        else:\n",
        "            num_cp += 1\n",
        "        lbl.append(is_cp[0])\n",
        "\n",
        "    print(\"number of samples : {} /  number of samples with change point : {}\".format(len(windows), num_cp))\n",
        "    windows = np.array(windows)\n",
        "\n",
        "    return windows, np.array(lbl)\n",
        "\n",
        "def load_usc_ds(path, window, train_share = 0.8, step = 5, mode='train'):\n",
        "\n",
        "    X, lbl = extract_windows(path, window, mode)\n",
        "\n",
        "    if mode == \"all\":\n",
        "        return X, lbl\n",
        "    train_size = int(floor(train_share * X.shape[0]))\n",
        "    if mode == \"train\":\n",
        "        trainx = X[0:train_size]\n",
        "        trainlbl = lbl[0:train_size]\n",
        "        idx = np.arange(trainx.shape[0])\n",
        "        np.random.shuffle(idx)\n",
        "        trainx = trainx[idx,]\n",
        "        trainlbl = trainlbl[idx]\n",
        "        print('train samples : ', train_size)\n",
        "        return trainx, trainlbl\n",
        "\n",
        "    else:\n",
        "        testx = X[train_size:]\n",
        "        testlbl = lbl[train_size:]\n",
        "        print('test shape {} and number of change points {} '.format(testx.shape, len(np.where(testlbl > 0)[0])))\n",
        "\n",
        "        return testx, testlbl\n",
        "\n",
        "\n",
        "class Prepare_dataset(torch.utils.data.Dataset):    \n",
        "    \n",
        "    def __init__(self, path, labels):\n",
        "        \n",
        "        self.path = path\n",
        "        self.labels = labels\n",
        "    \n",
        "    def __len__(self):\n",
        "        \n",
        "        return len(self.path)\n",
        "    \n",
        "    def __getitem__(self, index):\n",
        "        series = self.path[index]\n",
        "        tensor_of_image = torch.tensor(series)\n",
        "        label = self.labels[index]\n",
        "        \n",
        "        return tensor_of_image, label \n",
        "        #return np.concatenate((label, tensor_of_image), 1)\n",
        "\n",
        "def load_dataset(path, ds_name, win, bs, mode=\"train\"):\n",
        "    if ds_name == 'HASC':\n",
        "        data, label = load_hasc_ds(path, window = 2 * win, mode=mode)\n",
        "    elif ds_name == \"USC\":\n",
        "        data, label = load_usc_ds(path, window = 2 * win, mode=mode)\n",
        "    else:\n",
        "        raise ValueError(\"Undefined Dataset.\")\n",
        "\n",
        "    label = label.reshape((label.shape[0], 1))\n",
        "    print(data.shape, label.shape)\n",
        "    \n",
        "    #dataset = np.concatenate((trainlbl, trainx), 1)\n",
        "\n",
        "    #print(\"dataset shape : \", dataset.shape)\n",
        "    if mode == \"train\":\n",
        "        data_train = Prepare_dataset(data, label)\n",
        "        dataloader_train = torch.utils.data.DataLoader(data_train,\n",
        "                                                       batch_size=bs,\n",
        "                                                       shuffle=True)\n",
        "        return dataloader_train\n",
        "        \n",
        "    \n",
        "    \n",
        "    if mode == \"test\":\n",
        "        data_test = Prepare_dataset(data, label)\n",
        "        dataloader_test = torch.utils.data.DataLoader(data_test,\n",
        "                                                      batch_size=bs,\n",
        "                                                      shuffle=False)\n",
        "\n",
        "        return dataloader_test"
      ]
    },
    {
      "attachments": {},
      "cell_type": "markdown",
      "id": "zTF7L2TXmU07",
      "metadata": {
        "id": "zTF7L2TXmU07"
      },
      "source": [
        "### Parameters"
      ]
    },
    {
      "cell_type": "code",
      "execution_count": 9,
      "id": "8bj1_yYpmU08",
      "metadata": {
        "id": "8bj1_yYpmU08"
      },
      "outputs": [],
      "source": [
        "window = 100\n",
        "code_size = 10\n",
        "seq_len = window\n",
        "margin = window\n",
        "quantile = 0.4\n",
        "train_share = 0.7\n",
        "# as in the article\n",
        "bs = 8\n",
        "step = 10\n",
        "epochs = 10\n",
        "# folowing the article dilations:\n",
        "dilations = [1, 4, 16]\n",
        "nb_stacks = 2\n",
        "kernel_size = 4\n",
        "nb_filters = 64\n",
        "temperature = 0.1\n",
        "dataset_name = \"USC\""
      ]
    },
    {
      "cell_type": "code",
      "execution_count": 10,
      "id": "8u1QcFremU08",
      "metadata": {
        "colab": {
          "base_uri": "https://localhost:8080/"
        },
        "id": "8u1QcFremU08",
        "outputId": "9e2039f8-a56e-43b9-f2de-d3c6036c2421"
      },
      "outputs": [
        {
          "name": "stdout",
          "output_type": "stream",
          "text": [
            "100\n",
            "number of samples : 18707 /  number of samples with change point : 700\n"
          ]
        }
      ],
      "source": [
        "path= \"data/\"\n",
        "dataset = sio.loadmat(path+\"usc.mat\")\n",
        "windows, labels = extract_windows(path = path, window_size=window, step = step)"
      ]
    },
    {
      "cell_type": "code",
      "execution_count": 11,
      "id": "lGjsYQpBmU08",
      "metadata": {
        "colab": {
          "base_uri": "https://localhost:8080/"
        },
        "id": "lGjsYQpBmU08",
        "outputId": "aeeb2bd7-5496-4fc5-8453-3d06f65d2bfa"
      },
      "outputs": [
        {
          "name": "stdout",
          "output_type": "stream",
          "text": [
            "200\n",
            "number of samples : 18687 /  number of samples with change point : 1400\n",
            "train samples :  13080\n",
            "200\n",
            "number of samples : 18687 /  number of samples with change point : 1400\n",
            "test shape (5607, 200) and number of change points 399 \n"
          ]
        }
      ],
      "source": [
        "trainx, trainlbl = load_usc_ds(path = \"data/\", window = window*2, train_share = train_share, step = step, mode='train')\n",
        "testx, testlbl = load_usc_ds(path = \"data/\", window = window*2, train_share = train_share, step = step, mode='test')"
      ]
    },
    {
      "cell_type": "code",
      "execution_count": 12,
      "id": "SctzWLyWrBhx",
      "metadata": {
        "colab": {
          "base_uri": "https://localhost:8080/",
          "height": 800
        },
        "id": "SctzWLyWrBhx",
        "outputId": "54b450bf-2043-4203-ea9b-371f57cb866e"
      },
      "outputs": [
        {
          "name": "stderr",
          "output_type": "stream",
          "text": [
            "\r 10%|█         | 2/20 [05:59<53:52, 179.56s/it]\n",
            "Traceback (most recent call last):\n",
            "  File \"/usr/lib/python3.8/multiprocessing/queues.py\", line 245, in _feed\n",
            "    send_bytes(obj)\n",
            "  File \"/usr/lib/python3.8/multiprocessing/connection.py\", line 200, in send_bytes\n",
            "    self._send_bytes(m[offset:offset + size])\n",
            "  File \"/usr/lib/python3.8/multiprocessing/connection.py\", line 411, in _send_bytes\n",
            "    self._send(header + buf)\n",
            "  File \"/usr/lib/python3.8/multiprocessing/connection.py\", line 368, in _send\n",
            "    n = write(self._handle, buf)\n",
            "BrokenPipeError: [Errno 32] Broken pipe\n",
            "Traceback (most recent call last):\n",
            "  File \"/usr/lib/python3.8/multiprocessing/queues.py\", line 245, in _feed\n",
            "    send_bytes(obj)\n",
            "  File \"/usr/lib/python3.8/multiprocessing/connection.py\", line 200, in send_bytes\n",
            "    self._send_bytes(m[offset:offset + size])\n",
            "  File \"/usr/lib/python3.8/multiprocessing/connection.py\", line 411, in _send_bytes\n",
            "    self._send(header + buf)\n",
            "  File \"/usr/lib/python3.8/multiprocessing/connection.py\", line 368, in _send\n",
            "    n = write(self._handle, buf)\n",
            "BrokenPipeError: [Errno 32] Broken pipe\n"
          ]
        },
        {
          "ename": "KeyboardInterrupt",
          "evalue": "ignored",
          "output_type": "error",
          "traceback": [
            "\u001b[0;31m---------------------------------------------------------------------------\u001b[0m",
            "\u001b[0;31mKeyboardInterrupt\u001b[0m                         Traceback (most recent call last)",
            "\u001b[0;32m<ipython-input-12-2ebb980e0c0c>\u001b[0m in \u001b[0;36m<module>\u001b[0;34m\u001b[0m\n\u001b[1;32m     74\u001b[0m             \u001b[0mplt\u001b[0m\u001b[0;34m.\u001b[0m\u001b[0mxlabel\u001b[0m\u001b[0;34m(\u001b[0m\u001b[0;34m\"iterations\"\u001b[0m\u001b[0;34m,\u001b[0m \u001b[0mfontsize\u001b[0m \u001b[0;34m=\u001b[0m \u001b[0;36m14\u001b[0m\u001b[0;34m)\u001b[0m\u001b[0;34m\u001b[0m\u001b[0;34m\u001b[0m\u001b[0m\n\u001b[1;32m     75\u001b[0m             \u001b[0mplt\u001b[0m\u001b[0;34m.\u001b[0m\u001b[0mlegend\u001b[0m\u001b[0;34m(\u001b[0m\u001b[0mfontsize\u001b[0m \u001b[0;34m=\u001b[0m \u001b[0;36m14\u001b[0m\u001b[0;34m)\u001b[0m\u001b[0;34m\u001b[0m\u001b[0;34m\u001b[0m\u001b[0m\n\u001b[0;32m---> 76\u001b[0;31m             \u001b[0mplt\u001b[0m\u001b[0;34m.\u001b[0m\u001b[0mshow\u001b[0m\u001b[0;34m(\u001b[0m\u001b[0;34m)\u001b[0m\u001b[0;34m;\u001b[0m\u001b[0;34m\u001b[0m\u001b[0;34m\u001b[0m\u001b[0m\n\u001b[0m\u001b[1;32m     77\u001b[0m             \u001b[0mmodel\u001b[0m\u001b[0;34m.\u001b[0m\u001b[0mtrain\u001b[0m\u001b[0;34m(\u001b[0m\u001b[0;34m)\u001b[0m\u001b[0;34m\u001b[0m\u001b[0;34m\u001b[0m\u001b[0m\n\u001b[1;32m     78\u001b[0m \u001b[0;34m\u001b[0m\u001b[0m\n",
            "\u001b[0;32m/usr/local/lib/python3.8/dist-packages/matplotlib/pyplot.py\u001b[0m in \u001b[0;36mshow\u001b[0;34m(*args, **kw)\u001b[0m\n\u001b[1;32m    270\u001b[0m     \"\"\"\n\u001b[1;32m    271\u001b[0m     \u001b[0;32mglobal\u001b[0m \u001b[0m_show\u001b[0m\u001b[0;34m\u001b[0m\u001b[0;34m\u001b[0m\u001b[0m\n\u001b[0;32m--> 272\u001b[0;31m     \u001b[0;32mreturn\u001b[0m \u001b[0m_show\u001b[0m\u001b[0;34m(\u001b[0m\u001b[0;34m*\u001b[0m\u001b[0margs\u001b[0m\u001b[0;34m,\u001b[0m \u001b[0;34m**\u001b[0m\u001b[0mkw\u001b[0m\u001b[0;34m)\u001b[0m\u001b[0;34m\u001b[0m\u001b[0;34m\u001b[0m\u001b[0m\n\u001b[0m\u001b[1;32m    273\u001b[0m \u001b[0;34m\u001b[0m\u001b[0m\n\u001b[1;32m    274\u001b[0m \u001b[0;34m\u001b[0m\u001b[0m\n",
            "\u001b[0;32m/usr/local/lib/python3.8/dist-packages/ipykernel/pylab/backend_inline.py\u001b[0m in \u001b[0;36mshow\u001b[0;34m(close, block)\u001b[0m\n\u001b[1;32m     39\u001b[0m     \u001b[0;32mtry\u001b[0m\u001b[0;34m:\u001b[0m\u001b[0;34m\u001b[0m\u001b[0;34m\u001b[0m\u001b[0m\n\u001b[1;32m     40\u001b[0m         \u001b[0;32mfor\u001b[0m \u001b[0mfigure_manager\u001b[0m \u001b[0;32min\u001b[0m \u001b[0mGcf\u001b[0m\u001b[0;34m.\u001b[0m\u001b[0mget_all_fig_managers\u001b[0m\u001b[0;34m(\u001b[0m\u001b[0;34m)\u001b[0m\u001b[0;34m:\u001b[0m\u001b[0;34m\u001b[0m\u001b[0;34m\u001b[0m\u001b[0m\n\u001b[0;32m---> 41\u001b[0;31m             display(\n\u001b[0m\u001b[1;32m     42\u001b[0m                 \u001b[0mfigure_manager\u001b[0m\u001b[0;34m.\u001b[0m\u001b[0mcanvas\u001b[0m\u001b[0;34m.\u001b[0m\u001b[0mfigure\u001b[0m\u001b[0;34m,\u001b[0m\u001b[0;34m\u001b[0m\u001b[0;34m\u001b[0m\u001b[0m\n\u001b[1;32m     43\u001b[0m                 \u001b[0mmetadata\u001b[0m\u001b[0;34m=\u001b[0m\u001b[0m_fetch_figure_metadata\u001b[0m\u001b[0;34m(\u001b[0m\u001b[0mfigure_manager\u001b[0m\u001b[0;34m.\u001b[0m\u001b[0mcanvas\u001b[0m\u001b[0;34m.\u001b[0m\u001b[0mfigure\u001b[0m\u001b[0;34m)\u001b[0m\u001b[0;34m\u001b[0m\u001b[0;34m\u001b[0m\u001b[0m\n",
            "\u001b[0;32m/usr/local/lib/python3.8/dist-packages/IPython/core/display.py\u001b[0m in \u001b[0;36mdisplay\u001b[0;34m(include, exclude, metadata, transient, display_id, *objs, **kwargs)\u001b[0m\n\u001b[1;32m    311\u001b[0m             \u001b[0mpublish_display_data\u001b[0m\u001b[0;34m(\u001b[0m\u001b[0mdata\u001b[0m\u001b[0;34m=\u001b[0m\u001b[0mobj\u001b[0m\u001b[0;34m,\u001b[0m \u001b[0mmetadata\u001b[0m\u001b[0;34m=\u001b[0m\u001b[0mmetadata\u001b[0m\u001b[0;34m,\u001b[0m \u001b[0;34m**\u001b[0m\u001b[0mkwargs\u001b[0m\u001b[0;34m)\u001b[0m\u001b[0;34m\u001b[0m\u001b[0;34m\u001b[0m\u001b[0m\n\u001b[1;32m    312\u001b[0m         \u001b[0;32melse\u001b[0m\u001b[0;34m:\u001b[0m\u001b[0;34m\u001b[0m\u001b[0;34m\u001b[0m\u001b[0m\n\u001b[0;32m--> 313\u001b[0;31m             \u001b[0mformat_dict\u001b[0m\u001b[0;34m,\u001b[0m \u001b[0mmd_dict\u001b[0m \u001b[0;34m=\u001b[0m \u001b[0mformat\u001b[0m\u001b[0;34m(\u001b[0m\u001b[0mobj\u001b[0m\u001b[0;34m,\u001b[0m \u001b[0minclude\u001b[0m\u001b[0;34m=\u001b[0m\u001b[0minclude\u001b[0m\u001b[0;34m,\u001b[0m \u001b[0mexclude\u001b[0m\u001b[0;34m=\u001b[0m\u001b[0mexclude\u001b[0m\u001b[0;34m)\u001b[0m\u001b[0;34m\u001b[0m\u001b[0;34m\u001b[0m\u001b[0m\n\u001b[0m\u001b[1;32m    314\u001b[0m             \u001b[0;32mif\u001b[0m \u001b[0;32mnot\u001b[0m \u001b[0mformat_dict\u001b[0m\u001b[0;34m:\u001b[0m\u001b[0;34m\u001b[0m\u001b[0;34m\u001b[0m\u001b[0m\n\u001b[1;32m    315\u001b[0m                 \u001b[0;31m# nothing to display (e.g. _ipython_display_ took over)\u001b[0m\u001b[0;34m\u001b[0m\u001b[0;34m\u001b[0m\u001b[0;34m\u001b[0m\u001b[0m\n",
            "\u001b[0;32m/usr/local/lib/python3.8/dist-packages/IPython/core/formatters.py\u001b[0m in \u001b[0;36mformat\u001b[0;34m(self, obj, include, exclude)\u001b[0m\n\u001b[1;32m    178\u001b[0m             \u001b[0mmd\u001b[0m \u001b[0;34m=\u001b[0m \u001b[0;32mNone\u001b[0m\u001b[0;34m\u001b[0m\u001b[0;34m\u001b[0m\u001b[0m\n\u001b[1;32m    179\u001b[0m             \u001b[0;32mtry\u001b[0m\u001b[0;34m:\u001b[0m\u001b[0;34m\u001b[0m\u001b[0;34m\u001b[0m\u001b[0m\n\u001b[0;32m--> 180\u001b[0;31m                 \u001b[0mdata\u001b[0m \u001b[0;34m=\u001b[0m \u001b[0mformatter\u001b[0m\u001b[0;34m(\u001b[0m\u001b[0mobj\u001b[0m\u001b[0;34m)\u001b[0m\u001b[0;34m\u001b[0m\u001b[0;34m\u001b[0m\u001b[0m\n\u001b[0m\u001b[1;32m    181\u001b[0m             \u001b[0;32mexcept\u001b[0m\u001b[0;34m:\u001b[0m\u001b[0;34m\u001b[0m\u001b[0;34m\u001b[0m\u001b[0m\n\u001b[1;32m    182\u001b[0m                 \u001b[0;31m# FIXME: log the exception\u001b[0m\u001b[0;34m\u001b[0m\u001b[0;34m\u001b[0m\u001b[0;34m\u001b[0m\u001b[0m\n",
            "\u001b[0;32m<decorator-gen-2>\u001b[0m in \u001b[0;36m__call__\u001b[0;34m(self, obj)\u001b[0m\n",
            "\u001b[0;32m/usr/local/lib/python3.8/dist-packages/IPython/core/formatters.py\u001b[0m in \u001b[0;36mcatch_format_error\u001b[0;34m(method, self, *args, **kwargs)\u001b[0m\n\u001b[1;32m    222\u001b[0m     \u001b[0;34m\"\"\"show traceback on failed format call\"\"\"\u001b[0m\u001b[0;34m\u001b[0m\u001b[0;34m\u001b[0m\u001b[0m\n\u001b[1;32m    223\u001b[0m     \u001b[0;32mtry\u001b[0m\u001b[0;34m:\u001b[0m\u001b[0;34m\u001b[0m\u001b[0;34m\u001b[0m\u001b[0m\n\u001b[0;32m--> 224\u001b[0;31m         \u001b[0mr\u001b[0m \u001b[0;34m=\u001b[0m \u001b[0mmethod\u001b[0m\u001b[0;34m(\u001b[0m\u001b[0mself\u001b[0m\u001b[0;34m,\u001b[0m \u001b[0;34m*\u001b[0m\u001b[0margs\u001b[0m\u001b[0;34m,\u001b[0m \u001b[0;34m**\u001b[0m\u001b[0mkwargs\u001b[0m\u001b[0;34m)\u001b[0m\u001b[0;34m\u001b[0m\u001b[0;34m\u001b[0m\u001b[0m\n\u001b[0m\u001b[1;32m    225\u001b[0m     \u001b[0;32mexcept\u001b[0m \u001b[0mNotImplementedError\u001b[0m\u001b[0;34m:\u001b[0m\u001b[0;34m\u001b[0m\u001b[0;34m\u001b[0m\u001b[0m\n\u001b[1;32m    226\u001b[0m         \u001b[0;31m# don't warn on NotImplementedErrors\u001b[0m\u001b[0;34m\u001b[0m\u001b[0;34m\u001b[0m\u001b[0;34m\u001b[0m\u001b[0m\n",
            "\u001b[0;32m/usr/local/lib/python3.8/dist-packages/IPython/core/formatters.py\u001b[0m in \u001b[0;36m__call__\u001b[0;34m(self, obj)\u001b[0m\n\u001b[1;32m    339\u001b[0m                 \u001b[0;32mpass\u001b[0m\u001b[0;34m\u001b[0m\u001b[0;34m\u001b[0m\u001b[0m\n\u001b[1;32m    340\u001b[0m             \u001b[0;32melse\u001b[0m\u001b[0;34m:\u001b[0m\u001b[0;34m\u001b[0m\u001b[0;34m\u001b[0m\u001b[0m\n\u001b[0;32m--> 341\u001b[0;31m                 \u001b[0;32mreturn\u001b[0m \u001b[0mprinter\u001b[0m\u001b[0;34m(\u001b[0m\u001b[0mobj\u001b[0m\u001b[0;34m)\u001b[0m\u001b[0;34m\u001b[0m\u001b[0;34m\u001b[0m\u001b[0m\n\u001b[0m\u001b[1;32m    342\u001b[0m             \u001b[0;31m# Finally look for special method names\u001b[0m\u001b[0;34m\u001b[0m\u001b[0;34m\u001b[0m\u001b[0;34m\u001b[0m\u001b[0m\n\u001b[1;32m    343\u001b[0m             \u001b[0mmethod\u001b[0m \u001b[0;34m=\u001b[0m \u001b[0mget_real_method\u001b[0m\u001b[0;34m(\u001b[0m\u001b[0mobj\u001b[0m\u001b[0;34m,\u001b[0m \u001b[0mself\u001b[0m\u001b[0;34m.\u001b[0m\u001b[0mprint_method\u001b[0m\u001b[0;34m)\u001b[0m\u001b[0;34m\u001b[0m\u001b[0;34m\u001b[0m\u001b[0m\n",
            "\u001b[0;32m/usr/local/lib/python3.8/dist-packages/IPython/core/pylabtools.py\u001b[0m in \u001b[0;36m<lambda>\u001b[0;34m(fig)\u001b[0m\n\u001b[1;32m    242\u001b[0m \u001b[0;34m\u001b[0m\u001b[0m\n\u001b[1;32m    243\u001b[0m     \u001b[0;32mif\u001b[0m \u001b[0;34m'png'\u001b[0m \u001b[0;32min\u001b[0m \u001b[0mformats\u001b[0m\u001b[0;34m:\u001b[0m\u001b[0;34m\u001b[0m\u001b[0;34m\u001b[0m\u001b[0m\n\u001b[0;32m--> 244\u001b[0;31m         \u001b[0mpng_formatter\u001b[0m\u001b[0;34m.\u001b[0m\u001b[0mfor_type\u001b[0m\u001b[0;34m(\u001b[0m\u001b[0mFigure\u001b[0m\u001b[0;34m,\u001b[0m \u001b[0;32mlambda\u001b[0m \u001b[0mfig\u001b[0m\u001b[0;34m:\u001b[0m \u001b[0mprint_figure\u001b[0m\u001b[0;34m(\u001b[0m\u001b[0mfig\u001b[0m\u001b[0;34m,\u001b[0m \u001b[0;34m'png'\u001b[0m\u001b[0;34m,\u001b[0m \u001b[0;34m**\u001b[0m\u001b[0mkwargs\u001b[0m\u001b[0;34m)\u001b[0m\u001b[0;34m)\u001b[0m\u001b[0;34m\u001b[0m\u001b[0;34m\u001b[0m\u001b[0m\n\u001b[0m\u001b[1;32m    245\u001b[0m     \u001b[0;32mif\u001b[0m \u001b[0;34m'retina'\u001b[0m \u001b[0;32min\u001b[0m \u001b[0mformats\u001b[0m \u001b[0;32mor\u001b[0m \u001b[0;34m'png2x'\u001b[0m \u001b[0;32min\u001b[0m \u001b[0mformats\u001b[0m\u001b[0;34m:\u001b[0m\u001b[0;34m\u001b[0m\u001b[0;34m\u001b[0m\u001b[0m\n\u001b[1;32m    246\u001b[0m         \u001b[0mpng_formatter\u001b[0m\u001b[0;34m.\u001b[0m\u001b[0mfor_type\u001b[0m\u001b[0;34m(\u001b[0m\u001b[0mFigure\u001b[0m\u001b[0;34m,\u001b[0m \u001b[0;32mlambda\u001b[0m \u001b[0mfig\u001b[0m\u001b[0;34m:\u001b[0m \u001b[0mretina_figure\u001b[0m\u001b[0;34m(\u001b[0m\u001b[0mfig\u001b[0m\u001b[0;34m,\u001b[0m \u001b[0;34m**\u001b[0m\u001b[0mkwargs\u001b[0m\u001b[0;34m)\u001b[0m\u001b[0;34m)\u001b[0m\u001b[0;34m\u001b[0m\u001b[0;34m\u001b[0m\u001b[0m\n",
            "\u001b[0;32m/usr/local/lib/python3.8/dist-packages/IPython/core/pylabtools.py\u001b[0m in \u001b[0;36mprint_figure\u001b[0;34m(fig, fmt, bbox_inches, **kwargs)\u001b[0m\n\u001b[1;32m    126\u001b[0m \u001b[0;34m\u001b[0m\u001b[0m\n\u001b[1;32m    127\u001b[0m     \u001b[0mbytes_io\u001b[0m \u001b[0;34m=\u001b[0m \u001b[0mBytesIO\u001b[0m\u001b[0;34m(\u001b[0m\u001b[0;34m)\u001b[0m\u001b[0;34m\u001b[0m\u001b[0;34m\u001b[0m\u001b[0m\n\u001b[0;32m--> 128\u001b[0;31m     \u001b[0mfig\u001b[0m\u001b[0;34m.\u001b[0m\u001b[0mcanvas\u001b[0m\u001b[0;34m.\u001b[0m\u001b[0mprint_figure\u001b[0m\u001b[0;34m(\u001b[0m\u001b[0mbytes_io\u001b[0m\u001b[0;34m,\u001b[0m \u001b[0;34m**\u001b[0m\u001b[0mkw\u001b[0m\u001b[0;34m)\u001b[0m\u001b[0;34m\u001b[0m\u001b[0;34m\u001b[0m\u001b[0m\n\u001b[0m\u001b[1;32m    129\u001b[0m     \u001b[0mdata\u001b[0m \u001b[0;34m=\u001b[0m \u001b[0mbytes_io\u001b[0m\u001b[0;34m.\u001b[0m\u001b[0mgetvalue\u001b[0m\u001b[0;34m(\u001b[0m\u001b[0;34m)\u001b[0m\u001b[0;34m\u001b[0m\u001b[0;34m\u001b[0m\u001b[0m\n\u001b[1;32m    130\u001b[0m     \u001b[0;32mif\u001b[0m \u001b[0mfmt\u001b[0m \u001b[0;34m==\u001b[0m \u001b[0;34m'svg'\u001b[0m\u001b[0;34m:\u001b[0m\u001b[0;34m\u001b[0m\u001b[0;34m\u001b[0m\u001b[0m\n",
            "\u001b[0;32m/usr/local/lib/python3.8/dist-packages/matplotlib/backend_bases.py\u001b[0m in \u001b[0;36mprint_figure\u001b[0;34m(self, filename, dpi, facecolor, edgecolor, orientation, format, bbox_inches, **kwargs)\u001b[0m\n\u001b[1;32m   2117\u001b[0m \u001b[0;34m\u001b[0m\u001b[0m\n\u001b[1;32m   2118\u001b[0m             \u001b[0;32mtry\u001b[0m\u001b[0;34m:\u001b[0m\u001b[0;34m\u001b[0m\u001b[0;34m\u001b[0m\u001b[0m\n\u001b[0;32m-> 2119\u001b[0;31m                 result = print_method(\n\u001b[0m\u001b[1;32m   2120\u001b[0m                     \u001b[0mfilename\u001b[0m\u001b[0;34m,\u001b[0m\u001b[0;34m\u001b[0m\u001b[0;34m\u001b[0m\u001b[0m\n\u001b[1;32m   2121\u001b[0m                     \u001b[0mdpi\u001b[0m\u001b[0;34m=\u001b[0m\u001b[0mdpi\u001b[0m\u001b[0;34m,\u001b[0m\u001b[0;34m\u001b[0m\u001b[0;34m\u001b[0m\u001b[0m\n",
            "\u001b[0;32m/usr/local/lib/python3.8/dist-packages/matplotlib/backends/backend_agg.py\u001b[0m in \u001b[0;36mprint_png\u001b[0;34m(self, filename_or_obj, metadata, pil_kwargs, *args, **kwargs)\u001b[0m\n\u001b[1;32m    534\u001b[0m             \u001b[0mrenderer\u001b[0m \u001b[0;34m=\u001b[0m \u001b[0mself\u001b[0m\u001b[0;34m.\u001b[0m\u001b[0mget_renderer\u001b[0m\u001b[0;34m(\u001b[0m\u001b[0;34m)\u001b[0m\u001b[0;34m\u001b[0m\u001b[0;34m\u001b[0m\u001b[0m\n\u001b[1;32m    535\u001b[0m             \u001b[0;32mwith\u001b[0m \u001b[0mcbook\u001b[0m\u001b[0;34m.\u001b[0m\u001b[0mopen_file_cm\u001b[0m\u001b[0;34m(\u001b[0m\u001b[0mfilename_or_obj\u001b[0m\u001b[0;34m,\u001b[0m \u001b[0;34m\"wb\"\u001b[0m\u001b[0;34m)\u001b[0m \u001b[0;32mas\u001b[0m \u001b[0mfh\u001b[0m\u001b[0;34m:\u001b[0m\u001b[0;34m\u001b[0m\u001b[0;34m\u001b[0m\u001b[0m\n\u001b[0;32m--> 536\u001b[0;31m                 _png.write_png(renderer._renderer, fh, self.figure.dpi,\n\u001b[0m\u001b[1;32m    537\u001b[0m                                metadata={**default_metadata, **metadata})\n\u001b[1;32m    538\u001b[0m \u001b[0;34m\u001b[0m\u001b[0m\n",
            "\u001b[0;31mKeyboardInterrupt\u001b[0m: "
          ]
        }
      ],
      "source": [
        "encoder = Encoder(c_in = 1, nb_filters=nb_filters, kernel_size=kernel_size, dilations = dilations, \n",
        "                  nb_stacks=nb_stacks, n_steps=50, code_size=code_size, seq_len=seq_len)\n",
        "\n",
        "model = TSCP_model(\n",
        "    model=encoder,\n",
        "    train_dataset=trainx,\n",
        "    test_dataset=testx,\n",
        "    batch_size=bs,\n",
        "    num_workers=4,\n",
        "    temperature = temperature,\n",
        "    lr= 0.0001,\n",
        "    decay_steps= 1000,\n",
        "    window_1 = window,\n",
        "    window_2 = window\n",
        ")\n",
        "\n",
        "model = model.to(device)\n",
        "\n",
        "optimizer = model.configure_optimizers()\n",
        "\n",
        "train_loader = model.train_dataloader()\n",
        "val_loader = model.val_dataloader()\n",
        "\n",
        "train_losses = []\n",
        "val_losses = []\n",
        "\n",
        "total_iterations = 0\n",
        "for epoch in tqdm(range(epochs)):\n",
        "    \n",
        "    iteration = 0\n",
        "    train_losses_4_iters = []\n",
        "    \n",
        "    for index, batch in enumerate(train_loader):\n",
        "        \n",
        "        batch = batch.to(device)\n",
        "        index = torch.tensor(index).to(device)\n",
        "        \n",
        "        if iteration != 5:\n",
        "            \n",
        "            loss = model.training_step(batch, index)\n",
        "            train_losses_4_iters.append(float(loss))\n",
        "            #print(\"train_losses_4_iters\", train_losses_4_iters)\n",
        "\n",
        "            loss.backward()\n",
        "            optimizer.step()\n",
        "            optimizer.zero_grad()\n",
        "\n",
        "            iteration += 1\n",
        "            \n",
        "            #print(\"iteration\", iteration)\n",
        "        \n",
        "        else:\n",
        "            model.eval()\n",
        "            val_loss = model.validation_step(batch, index)\n",
        "            #print(\"val_loss\", val_loss)\n",
        "            val_losses.append(float(val_loss.detach()))\n",
        "            #print(\"val_losses\", val_losses)\n",
        "            train_losses.append(np.mean(train_losses_4_iters))\n",
        "            #print(\"train_losses\", train_losses)\n",
        "            \n",
        "            val_loss.backward()\n",
        "            optimizer.step()\n",
        "            optimizer.zero_grad()\n",
        "            iteration = 0\n",
        "            train_losses_4_iters = []\n",
        "            \n",
        "            clear_output(wait=True)\n",
        "            plt.figure(figsize=(18, 12))\n",
        "            \n",
        "            plt.plot(val_losses, label = \"validation loss\", color = \"blue\")\n",
        "            plt.plot(train_losses, label = \"training loss\", color = \"red\")\n",
        "            plt.yscale(\"log\")\n",
        "            plt.ylabel(\"Info NCE loss\", fontsize = 14)\n",
        "            plt.xlabel(\"iterations\", fontsize = 14)\n",
        "            plt.legend(fontsize = 14)\n",
        "            plt.show();\n",
        "            model.train()\n",
        "            "
      ]
    },
    {
      "cell_type": "code",
      "execution_count": 13,
      "id": "J5GthLkgE8tr",
      "metadata": {
        "id": "J5GthLkgE8tr"
      },
      "outputs": [],
      "source": [
        "torch.save(model, f\"TSCP2_dataset_name_{dataset_name}_win_{window}_code_size_{code_size}_epochs_{epochs}_margin_{margin}_step_{step}_bs_{bs}.pt\")\n"
      ]
    },
    {
      "cell_type": "code",
      "execution_count": 16,
      "id": "kGDKKJuVXaq9",
      "metadata": {
        "id": "kGDKKJuVXaq9"
      },
      "outputs": [],
      "source": [
        "# from google.colab import drive\n",
        "# drive.mount('/content/drive')\n",
        "\n",
        "name = f\"TSCP2_dataset_name_{dataset_name}_win_{window}_code_size_{code_size}_epochs_{epochs}_margin_{margin}_step_{step}_bs_{bs}.pt\"\n",
        "from_path = \"/content/MOSD_project_2022/tscp/\"+name\n",
        "target_path = \"/content/drive/MyDrive/TSCP_models/\"\n",
        "\n",
        "%cp $from_path $target_path"
      ]
    },
    {
      "cell_type": "code",
      "execution_count": 18,
      "id": "NsXfYGBLYLLO",
      "metadata": {
        "id": "NsXfYGBLYLLO"
      },
      "outputs": [],
      "source": [
        "### IF YOU WANT TO RECEIVE EXACT RESULTS UNCOMMENT AND RUN THIS CELL\n",
        "\n",
        "# ! gdown 1RMyWp6agAlIBDnm37-A92xj5uJ1SyWAn\n",
        "# model = torch.load(\"TSCP2_dataset_name_HASC_win_60_code_size_10_epochs_100.pt\")\n",
        "# model = model.to(device)\n",
        "# model.eval()"
      ]
    },
    {
      "cell_type": "code",
      "execution_count": 19,
      "id": "cS5vj9A2mU09",
      "metadata": {
        "id": "cS5vj9A2mU09"
      },
      "outputs": [],
      "source": [
        " def validation_emeddings(model, window, batch, batch_idx):\n",
        "\n",
        "    history, future = batch[:,:window], batch[:,window:]\n",
        "\n",
        "    history_emb = model(history.float())\n",
        "    future_emb = model(future.float()) \n",
        "\n",
        "    history_emb = nn.functional.normalize(history_emb, p=2, dim=1)\n",
        "    future_emb = nn.functional.normalize(future_emb, p=2, dim=1)\n",
        "\n",
        "    return history, future, history_emb, future_emb"
      ]
    },
    {
      "cell_type": "code",
      "execution_count": null,
      "id": "dca5ad29",
      "metadata": {},
      "outputs": [],
      "source": [
        "from tscp_new import _cosine_simililarity_dim1\n",
        "\n",
        "cosines = []\n",
        "j = 0\n",
        "\n",
        "for index, batch in enumerate(tqdm(val_loader)):\n",
        "    batch = batch.to(device)\n",
        "    \n",
        "    history, future, history_emb, future_emb = validation_emeddings(model = model,\n",
        "                                                                    window = window,\n",
        "                                                                    batch = batch,\n",
        "                                                                    batch_idx = index)\n",
        "    \n",
        "    history = torch.tensor(history.cpu(), dtype = torch.float32)\n",
        "    future = torch.tensor(future.cpu(), dtype = torch.float32)\n",
        "    history_emb = torch.tensor(history_emb.cpu(), dtype = torch.float32)\n",
        "    future_emb = torch.tensor(future_emb.cpu(), dtype = torch.float32)\n",
        "    \n",
        "    for i in range(bs):\n",
        "        if j == len(testlbl):\n",
        "            break\n",
        "        \n",
        "        print(i)\n",
        "\n",
        "        plt.figure(figsize = (17,12))\n",
        "        \n",
        "        plt.subplot(2,3,1)\n",
        "        plt.plot(history[i].cpu(), label=\"history\", color = \"red\")\n",
        "        plt.legend()\n",
        "\n",
        "        plt.subplot(2,3,2)\n",
        "        plt.plot(future[i].cpu(), label=\"future\", color = \"blue\")\n",
        "        plt.legend()\n",
        "\n",
        "        plt.subplot(2,3,3)\n",
        "        plt.plot(history[i].cpu(), label=\"history\", color = \"red\")\n",
        "        plt.plot(future[i].cpu(), label=\"future\", color = \"blue\")\n",
        "        plt.legend()\n",
        "\n",
        "        \n",
        "        plt.subplot(2,3,4)\n",
        "        plt.plot(history_emb[i].cpu(), label=\"history_emb\", color = \"red\")\n",
        "        plt.legend()\n",
        "\n",
        "        plt.subplot(2,3,5)\n",
        "        plt.plot(future_emb[i].cpu(), label=\"future_emb\", color = \"blue\")\n",
        "        plt.legend()\n",
        "        \n",
        "        plt.subplot(2,3,6)\n",
        "        plt.plot(history_emb[i].cpu(), label=\"history_emb\", color = \"red\")\n",
        "        plt.plot(future_emb[i].cpu(), label=\"future_emb\", color = \"blue\")\n",
        "        plt.legend()\n",
        "\n",
        "        plt.show()\n",
        "\n",
        "        print(\"#\"*120)\n",
        "        cosines.append(_cosine_simililarity_dim1(history_emb[i].cpu().reshape(1,-1), future_emb[i].cpu().reshape(1,-1)))\n",
        "        j+=1"
      ]
    },
    {
      "cell_type": "markdown",
      "id": "j6SN1kt_yCvW",
      "metadata": {
        "id": "j6SN1kt_yCvW"
      },
      "source": [
        "## Embedding illustraition and cosine distance calculation"
      ]
    },
    {
      "cell_type": "code",
      "execution_count": null,
      "id": "Rih-Y8Wysw4c",
      "metadata": {
        "id": "Rih-Y8Wysw4c"
      },
      "outputs": [],
      "source": [
        "y_true = [1 if x > 0 else 0 for x in testlbl]\n",
        "cosines = torch.tensor(cosines).numpy()\n",
        "binaries = cosines<np.quantile(cosines, quantile)\n",
        "y_pred = [1 if x > 0 else 0 for x in binaries]\n",
        "\n"
      ]
    },
    {
      "cell_type": "code",
      "execution_count": null,
      "id": "qRdhGsxK5Sse",
      "metadata": {
        "id": "qRdhGsxK5Sse"
      },
      "outputs": [],
      "source": [
        "plt.figure(figsize = (17,8))\n",
        "\n",
        "plt.subplot(1, 2, 1)\n",
        "plt.plot(cosines, label = \"cosine distance\", color = \"blue\")\n",
        "plt.plot(y_true, label = \"true change point\", color = \"red\");\n",
        "plt.axhline(y = np.quantile(cosines, quantile), color = 'orange', linestyle = '-', label = f\"{quantile} quantile for all cosines\")\n",
        "plt.legend(fontsize = 16)\n",
        "\n",
        "plt.subplot(1,2,2)\n",
        "plt.plot(y_pred, label = \"predicted change point\", color = \"blue\")\n",
        "plt.plot(y_true, label = \"true change point\", color = \"red\");\n",
        "plt.legend(fontsize = 16, loc = 2);\n"
      ]
    },
    {
      "cell_type": "code",
      "execution_count": null,
      "id": "ons3Ok8Nzfq-",
      "metadata": {
        "id": "ons3Ok8Nzfq-"
      },
      "outputs": [],
      "source": [
        "f1 = fuzzy_f1_score(y_true = np.array(y_true), y_pred = np.array(y_pred), margin=margin)\n",
        "roc_auc = roc_auc_score(y_true = np.array(y_true), y_score = np.array(y_pred))"
      ]
    },
    {
      "cell_type": "code",
      "execution_count": null,
      "id": "ZZdXx5jd2ggz",
      "metadata": {
        "id": "ZZdXx5jd2ggz"
      },
      "outputs": [],
      "source": [
        "print(f\"f1 (with margin) = {np.round(f1, 4)}, \\nroc_auc (w/o margin) = {np.round(roc_auc, 4)}\")"
      ]
    },
    {
      "cell_type": "code",
      "execution_count": null,
      "id": "UFapVIzcmU1A",
      "metadata": {
        "id": "UFapVIzcmU1A"
      },
      "outputs": [],
      "source": []
    },
    {
      "cell_type": "code",
      "execution_count": null,
      "id": "Bmraw1SpmU1A",
      "metadata": {
        "id": "Bmraw1SpmU1A"
      },
      "outputs": [],
      "source": []
    },
    {
      "cell_type": "code",
      "execution_count": null,
      "id": "gP4aWsycmU1A",
      "metadata": {
        "id": "gP4aWsycmU1A"
      },
      "outputs": [],
      "source": []
    }
  ],
  "metadata": {
    "accelerator": "GPU",
    "colab": {
      "provenance": []
    },
    "gpuClass": "standard",
    "kernelspec": {
      "display_name": "Python 3",
      "language": "python",
      "name": "python3"
    },
    "language_info": {
      "codemirror_mode": {
        "name": "ipython",
        "version": 3
      },
      "file_extension": ".py",
      "mimetype": "text/x-python",
      "name": "python",
      "nbconvert_exporter": "python",
      "pygments_lexer": "ipython3",
      "version": "3.8.5"
    }
  },
  "nbformat": 4,
  "nbformat_minor": 5
}
