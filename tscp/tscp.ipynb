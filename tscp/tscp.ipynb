{
  "cells": [
    {
      "cell_type": "markdown",
      "metadata": {
        "id": "1ikktlXANdgt"
      },
      "source": [
        "#TSCP"
      ]
    },
    {
      "cell_type": "code",
      "execution_count": null,
      "metadata": {
        "id": "rPIjmK8DmWyT"
      },
      "outputs": [],
      "source": [
        "!git clone https://github.com/cruiseresearchgroup/TSCP2\n",
        "!pip install keras-tcn\n",
        "!pip -q install pytorch-lightning"
      ]
    },
    {
      "cell_type": "code",
      "execution_count": null,
      "metadata": {
        "id": "bu5w5uFlmW0u"
      },
      "outputs": [],
      "source": [
        "%mkdir output"
      ]
    },
    {
      "cell_type": "code",
      "execution_count": null,
      "metadata": {
        "id": "Kl4Cpkq4mW3h"
      },
      "outputs": [],
      "source": [
        "import tensorflow as tf"
      ]
    },
    {
      "cell_type": "code",
      "execution_count": null,
      "metadata": {
        "id": "yMqiweFTmW5q"
      },
      "outputs": [],
      "source": [
        "gpus = tf.config.list_physical_devices('GPU')\n",
        "gpus"
      ]
    },
    {
      "cell_type": "code",
      "execution_count": null,
      "metadata": {
        "id": "FYYF4sv3mW7_"
      },
      "outputs": [],
      "source": [
        "!python3 TSCP2/src/main.py --datapath TSCP2/data/ --output output --dataset USC --loss nce --sim cosine --gpu 0 --epoch 3 --batch 8"
      ]
    },
    {
      "cell_type": "code",
      "execution_count": null,
      "metadata": {
        "id": "XF4vurDpsaCj"
      },
      "outputs": [],
      "source": [
        "!git clone https://github.com/OctoberChang/klcpd_code"
      ]
    },
    {
      "cell_type": "code",
      "execution_count": null,
      "metadata": {
        "id": "wDvZRHxysaE9"
      },
      "outputs": [],
      "source": [
        "%cp /content/klcpd_code/data/hasc/hasc-1.mat /content/TSCP2/data/hasc.mat"
      ]
    },
    {
      "cell_type": "code",
      "execution_count": null,
      "metadata": {
        "id": "zf7hP3AbEx6_"
      },
      "outputs": [],
      "source": [
        "%cd TSCP2/data/\n",
        "import scipy.io\n",
        "import numpy as np\n",
        "data = scipy.io.loadmat(\"hasc.mat\")\n",
        "\n",
        "for i in data:\n",
        "    if '__' not in i and 'readme' not in i:\n",
        "          np.savetxt((\"hasc.csv\"),data[i],delimiter=',')\n",
        "\n",
        "%cd ..\n",
        "%cd .."
      ]
    },
    {
      "cell_type": "code",
      "execution_count": null,
      "metadata": {
        "id": "tO__Rl7TEx9H"
      },
      "outputs": [],
      "source": [
        "!python3 TSCP2/src/main.py --datapath TSCP2/data/ --output output --dataset HASC --loss nce --sim cosine --gpu 0 --epoch 2 --batch 64 --window 60"
      ]
    },
    {
      "cell_type": "code",
      "execution_count": null,
      "metadata": {
        "id": "WrN1ajyaFAO9"
      },
      "outputs": [],
      "source": [
        "from google.colab import drive\n",
        "drive.mount('/content/drive/')"
      ]
    },
    {
      "cell_type": "code",
      "execution_count": null,
      "metadata": {
        "id": "cQSfhTaoFv9u"
      },
      "outputs": [],
      "source": [
        "%cp -r /content/output /content/drive/MyDrive/project_sequential_data"
      ]
    },
    {
      "cell_type": "code",
      "execution_count": null,
      "metadata": {
        "id": "QRseqthqGNHc"
      },
      "outputs": [],
      "source": []
    }
  ],
  "metadata": {
    "accelerator": "GPU",
    "colab": {
      "private_outputs": true,
      "provenance": []
    },
    "gpuClass": "standard",
    "kernelspec": {
      "display_name": "Python 3",
      "name": "python3"
    },
    "language_info": {
      "name": "python"
    }
  },
  "nbformat": 4,
  "nbformat_minor": 0
}
