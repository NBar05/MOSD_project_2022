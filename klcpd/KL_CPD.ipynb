{
 "cells": [
  {
   "cell_type": "code",
   "execution_count": 1,
   "metadata": {
    "colab": {
     "base_uri": "https://localhost:8080/"
    },
    "id": "rrzRfASlIrR5",
    "outputId": "6c3878c2-49a5-4cb1-d6a7-24626873b2f5"
   },
   "outputs": [],
   "source": [
    "# !git clone https://github.com/OctoberChang/klcpd_code.git\n",
    "# !rm -r klcpd_code/data/simulation"
   ]
  },
  {
   "cell_type": "code",
   "execution_count": 2,
   "metadata": {
    "id": "xS7bZju2bKCe"
   },
   "outputs": [],
   "source": [
    "# !pip -q install pytorch-lightning"
   ]
  },
  {
   "cell_type": "code",
   "execution_count": 3,
   "metadata": {
    "id": "8SR1XtzHjOmD"
   },
   "outputs": [],
   "source": [
    "import os"
   ]
  },
  {
   "cell_type": "code",
   "execution_count": null,
   "metadata": {
    "colab": {
     "base_uri": "https://localhost:8080/"
    },
    "id": "GK8gcfgOjlnv",
    "outputId": "c3054913-51e4-40a3-a477-0bb00e067d1c"
   },
   "outputs": [
    {
     "name": "stdout",
     "output_type": "stream",
     "text": [
      "\n",
      "--------------------------------------------------------------------------------------------------\n",
      "klcpd_code/data/fishkiller/fishkiller.mat\n",
      "\n",
      "GPU available: True (cuda), used: True\n",
      "TPU available: False, using: 0 TPU cores\n",
      "IPU available: False, using: 0 IPUs\n",
      "HPU available: False, using: 0 HPUs\n",
      "LOCAL_RANK: 0 - CUDA_VISIBLE_DEVICES: [0]\n",
      "\n",
      "  | Name | Type | Params\n",
      "------------------------------\n",
      "0 | netD | NetD | 6.5 K \n",
      "1 | netG | NetG | 12.7 K\n",
      "------------------------------\n",
      "19.1 K    Trainable params\n",
      "0         Non-trainable params\n",
      "19.1 K    Total params\n",
      "0.077     Total estimated model params size (MB)\n",
      "Sanity Checking: 0it [00:00, ?it/s]/opt/conda/lib/python3.9/site-packages/pytorch_lightning/trainer/connectors/data_connector.py:236: PossibleUserWarning: The dataloader, val_dataloader 0, does not have many workers which may be a bottleneck. Consider increasing the value of the `num_workers` argument` (try 80 which is the number of cpus on this machine) in the `DataLoader` init to improve performance.\n",
      "  rank_zero_warn(\n",
      "/opt/conda/lib/python3.9/site-packages/pytorch_lightning/trainer/connectors/data_connector.py:236: PossibleUserWarning: The dataloader, train_dataloader, does not have many workers which may be a bottleneck. Consider increasing the value of the `num_workers` argument` (try 80 which is the number of cpus on this machine) in the `DataLoader` init to improve performance.\n",
      "  rank_zero_warn(\n",
      "Epoch 0:  45%|▍| 96/212 [00:34<00:41,  2.79it/s, loss=0.000696, v_num=6, train_l"
     ]
    }
   ],
   "source": [
    "path_to_data_folder = 'klcpd_code/data/'\n",
    "\n",
    "for w in [5, 25]:\n",
    "    for p in os.listdir(path_to_data_folder):\n",
    "        for f in os.listdir(path_to_data_folder + p):\n",
    "            print()\n",
    "            print('--------------------------------------------------------------------------------------------------')\n",
    "            print(path_to_data_folder + p + '/' + f)\n",
    "            print()\n",
    "\n",
    "            path_to_dataset = p + '/' + f\n",
    "\n",
    "            if p in ['hasc', 'beedance']:\n",
    "                !python3 utils_train.py --path_to_dataset $path_to_dataset --D 3 --wnd_dim $w\n",
    "            else:\n",
    "                !python3 utils_train.py --path_to_dataset $path_to_dataset --D 1 --wnd_dim $w\n",
    "\n",
    "            print('--------------------------------------------------------------------------------------------------')\n",
    "            print()"
   ]
  },
  {
   "cell_type": "code",
   "execution_count": null,
   "metadata": {},
   "outputs": [],
   "source": []
  }
 ],
 "metadata": {
  "accelerator": "GPU",
  "colab": {
   "provenance": []
  },
  "gpuClass": "standard",
  "kernelspec": {
   "display_name": "Python 3 (ipykernel)",
   "language": "python",
   "name": "python3"
  },
  "language_info": {
   "codemirror_mode": {
    "name": "ipython",
    "version": 3
   },
   "file_extension": ".py",
   "mimetype": "text/x-python",
   "name": "python",
   "nbconvert_exporter": "python",
   "pygments_lexer": "ipython3",
   "version": "3.9.7"
  }
 },
 "nbformat": 4,
 "nbformat_minor": 4
}
